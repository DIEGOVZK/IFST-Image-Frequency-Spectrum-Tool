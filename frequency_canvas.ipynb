{
 "cells": [
  {
   "cell_type": "code",
   "execution_count": 23,
   "metadata": {},
   "outputs": [],
   "source": [
    "# Importa as dependências\n",
    "import numpy as np\n",
    "import cv2"
   ]
  },
  {
   "cell_type": "code",
   "execution_count": 24,
   "metadata": {},
   "outputs": [],
   "source": [
    "# Traduz uma imagem do domínio espacial para o da frequência \n",
    "def space_to_freq (image):\n",
    "\n",
    "    # Converte a imagem para floats e aplica o DFT, \n",
    "    # obtendo os valores complexos\n",
    "    dft = cv2.dft(np.float32(image), flags = cv2.DFT_COMPLEX_OUTPUT)\n",
    "\n",
    "    # realiza um 'shift' do canto superior esquerdo  \n",
    "    # para o centro da matrix na frequência\n",
    "    dft_shift = np.fft.fftshift(dft)\n",
    "\n",
    "    # extrai a magnetude e fase da matrix na frequência\n",
    "    mag, phase = cv2.cartToPolar(dft_shift[:,:,0], dft_shift[:,:,1])\n",
    "\n",
    "    # traduz de magnetude\n",
    "    # para aspectro \n",
    "    spec = np.log(mag) / 20\n",
    "\n",
    "    # retorna os valores calculados\n",
    "    return spec, mag, phase"
   ]
  },
  {
   "cell_type": "code",
   "execution_count": 25,
   "metadata": {},
   "outputs": [],
   "source": [
    "# Traduz uma imagem do domínio da frequência para o espacial\n",
    "def freq_to_space (spec, mag, phase, img_min, img_max):\n",
    "\n",
    "    # traduz do aspectro \n",
    "    # para magnetude\n",
    "    mag = np.exp(spec * 20)\n",
    "\n",
    "    # converte a magentude e fase para \n",
    "    # valores reais e complexos no plano carteziano\n",
    "    real, imag = cv2.polarToCart(mag, phase)\n",
    "\n",
    "    # combina os componentes carteziados \n",
    "    # em uma matrix de valores complexos\n",
    "    back = cv2.merge([real, imag])\n",
    "\n",
    "    # realiza um 'shift' do centro \n",
    "    # para o canto superior esquerdo\n",
    "    back_ishift = np.fft.ifftshift(back)\n",
    "\n",
    "    # realiza um idft, \n",
    "    # salva complexos resultantes\n",
    "    img_back = cv2.idft(back_ishift)\n",
    "\n",
    "    # combina os componentes complexos de volta para a imagem\n",
    "    img_back = cv2.magnitude(img_back[:,:,0], img_back[:,:,1])\n",
    "\n",
    "    # re-normaliza para o range uint8, igual a original\n",
    "    min, max = np.amin(img_back, (0,1)), np.amax(img_back, (0,1))\n",
    "    image = cv2.normalize(img_back, None, alpha=img_min, \n",
    "                            beta=img_max, norm_type=cv2.NORM_MINMAX, \n",
    "                            dtype=cv2.CV_8U)\n",
    "\n",
    "    # retorna a imagem\n",
    "    return image"
   ]
  },
  {
   "cell_type": "code",
   "execution_count": 26,
   "metadata": {},
   "outputs": [],
   "source": [
    "# mouse callback function\n",
    "pt1_x, pt1_y, drawing = 0, 0, 0\n",
    "def line_drawing(event, x, y, flags, param):\n",
    "    \n",
    "    # Puxa algumas variáveis globais para execução\n",
    "    global sidebyside, spectrum_image, pt1_x, pt1_y, drawing\n",
    "    color = 0\n",
    "    \n",
    "    # Ao pressionar, atualiza status e var locais\n",
    "    if event == cv2.EVENT_LBUTTONDOWN:\n",
    "        drawing = True\n",
    "        pt1_x, pt1_y = x, y\n",
    "\n",
    "    # Ao mover, pinta uma linha do último frame ao atual\n",
    "    elif event == cv2.EVENT_MOUSEMOVE:\n",
    "        if drawing == True:\n",
    "            cv2.line(spectrum_image, (pt1_x, pt1_y), (x, y), color=(color, color, color), thickness=5)\n",
    "            pt1_x, pt1_y = x, y\n",
    "            \n",
    "    # Ao soltar realiza uma última atualização\n",
    "    elif event == cv2.EVENT_LBUTTONUP:\n",
    "        drawing = False\n",
    "        cv2.line(spectrum_image, (pt1_x, pt1_y), (x, y), color=(color, color, color), thickness=5) "
   ]
  },
  {
   "cell_type": "code",
   "execution_count": 27,
   "metadata": {},
   "outputs": [],
   "source": [
    "# Lê a imagem em BW\n",
    "image = cv2.imread('image.jpg', 0)\n",
    "\n",
    "# Obtêm os valores de min e max da imagem\n",
    "img_min, img_max = np.amin(image, (0, 1)), np.amax(image, (0, 1))\n",
    "\n",
    "# Traduz para o domínio da frequência\n",
    "spectrum_image, mag, phase = space_to_freq(image)\n",
    "saved = spectrum_image\n",
    "\n",
    "# Cria a janela e seta o callback\n",
    "cv2.namedWindow('Spectrum')\n",
    "cv2.setMouseCallback('Spectrum', line_drawing)\n",
    "\n",
    "while(1):\n",
    "\n",
    "    # Realiza um update na imagem resultante\n",
    "    freq_image = freq_to_space(spectrum_image, mag, phase, \n",
    "                               img_min, img_max)\n",
    "\n",
    "    # Concatena a imagem modificada \n",
    "    # com sua versão na frequência\n",
    "    sidebyside = np.concatenate((spectrum_image, freq_image / 255), axis=1)       \n",
    "\n",
    "    # Mostra a imagem montada\n",
    "    cv2.imshow('Spectrum', sidebyside)\n",
    "\n",
    "    # Para a execução caso Q pressionado\n",
    "    if cv2.waitKey(1) & 0xFF == ord('q'):\n",
    "        break\n",
    "\n",
    "    # Reseta as edições caso R pressionado\n",
    "    elif cv2.waitKey(1) & 0xFF == ord('r'):\n",
    "        spectrum_image, mag, phase = space_to_freq(image)\n",
    "\n",
    "# Fecha as janelas\n",
    "cv2.destroyAllWindows()"
   ]
  }
 ],
 "metadata": {
  "kernelspec": {
   "display_name": "Python 3.10.2 64-bit",
   "language": "python",
   "name": "python3"
  },
  "language_info": {
   "codemirror_mode": {
    "name": "ipython",
    "version": 3
   },
   "file_extension": ".py",
   "mimetype": "text/x-python",
   "name": "python",
   "nbconvert_exporter": "python",
   "pygments_lexer": "ipython3",
   "version": "3.10.2"
  },
  "orig_nbformat": 4,
  "vscode": {
   "interpreter": {
    "hash": "d84c7c7581fbb060129a7814c7432df99c3e3cd8cbdff8553cc4750b2941e60f"
   }
  }
 },
 "nbformat": 4,
 "nbformat_minor": 2
}
